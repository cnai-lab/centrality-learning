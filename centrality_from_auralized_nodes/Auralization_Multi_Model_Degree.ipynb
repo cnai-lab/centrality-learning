{
 "cells": [
  {
   "cell_type": "code",
   "execution_count": 1,
   "metadata": {
    "colab": {
     "base_uri": "https://localhost:8080/",
     "height": 35
    },
    "id": "mj43fKjvYisU",
    "outputId": "3001abdf-6db0-4b4f-f8bb-a4de1327e6f2"
   },
   "outputs": [
    {
     "data": {
      "text/plain": [
       "'cuda'"
      ]
     },
     "execution_count": 1,
     "metadata": {},
     "output_type": "execute_result"
    }
   ],
   "source": [
    "import torch\n",
    "import networkx as nx\n",
    "import numpy as np\n",
    "import scipy\n",
    "import torch.nn.functional as F\n",
    "import matplotlib.pyplot as plt\n",
    "import math\n",
    "from tqdm import tqdm\n",
    "import random\n",
    "\n",
    "device = \"cuda\" if torch.cuda.is_available() else \"cpu\" \n",
    "device"
   ]
  },
  {
   "cell_type": "code",
   "execution_count": 2,
   "metadata": {
    "colab": {
     "base_uri": "https://localhost:8080/",
     "height": 745
    },
    "id": "IteKSUtcfYhi",
    "outputId": "552803c7-dd1b-4378-8124-dcba77bdb7de"
   },
   "outputs": [
    {
     "data": {
      "text/plain": [
       "<networkx.classes.graph.Graph at 0x1f20c9ced60>"
      ]
     },
     "execution_count": 2,
     "metadata": {},
     "output_type": "execute_result"
    }
   ],
   "source": [
    "def ba_gen(n,m):\n",
    "    while True:  \n",
    "        yield nx.barabasi_albert_graph(n,m)\n",
    "\n",
    "def grid_gen(dims):\n",
    "    while True:\n",
    "        yield nx.grid_graph(dims)\n",
    "\n",
    "def caveman_gen(c,k):\n",
    "    while True:\n",
    "        yield nx.connected_caveman_graph(c, k)\n",
    "        \n",
    "def gnm_gen(n,m):\n",
    "    while True:\n",
    "        yield nx.gnm_random_graph(n,m) \n",
    "\n",
    "def ws_gen(n,k,p):\n",
    "    while True:\n",
    "        yield nx.watts_strogatz_graph(n,k,p) \n",
    "\n",
    "\n",
    "def graph_gen():\n",
    "    generators = [\n",
    "        gnm_gen(150,200),\n",
    "        ba_gen(150,2),\n",
    "        #caveman_gen(6,25),\n",
    "        #grid_gen((10,15)),\n",
    "        ws_gen(150,4,0.1),\n",
    "    ]\n",
    "    while True: \n",
    "        gen = random.choice(generators)\n",
    "        G = next(gen)\n",
    "        G = nx.convert_node_labels_to_integers(G)\n",
    "        yield G\n",
    "        \n",
    "next(graph_gen())\n"
   ]
  },
  {
   "cell_type": "code",
   "execution_count": 3,
   "metadata": {
    "id": "TnwpgdQuAUGK"
   },
   "outputs": [],
   "source": [
    "class SignalPropagation(torch.nn.Module):\n",
    "    def __init__(self, sig, momentum=0.999, response_len=10000, tqdm=lambda x:x, device=\"cpu\"):\n",
    "        super(SignalPropagation, self).__init__()\n",
    "        self._device = device\n",
    "        self._a = momentum\n",
    "        self._len = response_len\n",
    "        self._sig = sig.to(self._device)\n",
    "        self._sig_loop = len(sig)\n",
    "        self._tqdm = tqdm\n",
    "\n",
    "    def forward(self, A):\n",
    "        n  = len(A)\n",
    "        P = torch.ones((n,n)).to(self._device)\n",
    "        Snew = Sold = S = torch.zeros((1,n)).to(self._device)\n",
    "        dS = dSold = torch.zeros((n,n)).to(self._device)\n",
    "        M = torch.zeros((n,n)).to(self._device)\n",
    "\n",
    "        response = []\n",
    "        for i in self._tqdm(range(0,self._len)):\n",
    "            Sold = S\n",
    "            S = Snew\n",
    "            dSold = dS\n",
    "            S += sig[i % (self._sig_loop-1)]\n",
    "            response.append(S)\n",
    "            dS = (A / (A.sum(dim=0)+1E-32)).T\n",
    "            D = torch.diag(S.squeeze())\n",
    "            dS = D.mm(dS) + self._a*M\n",
    "            Snew = S + dS.sum(dim=0) - dS.sum(dim=1)\n",
    "            M = dS\n",
    "        response = torch.stack(response).squeeze().T\n",
    "        return response"
   ]
  },
  {
   "cell_type": "code",
   "execution_count": 4,
   "metadata": {
    "id": "vUGo2ndc83mP"
   },
   "outputs": [],
   "source": [
    "from torch import nn\n",
    "\n",
    "\n",
    "class M5(nn.Module):\n",
    "    def __init__(self, n_input=1, n_output=35, stride=16, n_channel=32):\n",
    "        super().__init__()\n",
    "        self.conv1 = nn.Conv1d(n_input, n_channel, kernel_size=80, stride=stride)\n",
    "        self.bn1 = nn.BatchNorm1d(n_channel)\n",
    "        self.pool1 = nn.MaxPool1d(4)\n",
    "        self.conv2 = nn.Conv1d(n_channel, n_channel, kernel_size=3)\n",
    "        self.bn2 = nn.BatchNorm1d(n_channel)\n",
    "        self.pool2 = nn.MaxPool1d(4)\n",
    "        self.conv3 = nn.Conv1d(n_channel, 2 * n_channel, kernel_size=3)\n",
    "        self.bn3 = nn.BatchNorm1d(2 * n_channel)\n",
    "        self.pool3 = nn.MaxPool1d(4)\n",
    "        self.conv4 = nn.Conv1d(2 * n_channel, 2 * n_channel, kernel_size=3)\n",
    "        self.bn4 = nn.BatchNorm1d(2 * n_channel)\n",
    "        self.pool4 = nn.MaxPool1d(4)\n",
    "        self.fc1 = nn.Linear(2 * n_channel, n_output)\n",
    "        self.double()\n",
    "\n",
    "    def forward(self, x):\n",
    "        x = self.conv1(x)\n",
    "        x = F.relu(self.bn1(x))\n",
    "        x = self.pool1(x)\n",
    "        x = self.conv2(x)\n",
    "        x = F.relu(self.bn2(x))\n",
    "        x = self.pool2(x)\n",
    "        x = self.conv3(x)\n",
    "        x = F.relu(self.bn3(x))\n",
    "        x = self.pool3(x)\n",
    "        x = self.conv4(x)\n",
    "        x = F.relu(self.bn4(x))\n",
    "        x = self.pool4(x)\n",
    "        x = F.avg_pool1d(x, x.shape[-1])\n",
    "        x = x.permute(0, 2, 1)\n",
    "        x = self.fc1(x)\n",
    "        #return F.log_softmax(x, dim=2)\n",
    "        return x\n",
    "\n"
   ]
  },
  {
   "cell_type": "code",
   "execution_count": 5,
   "metadata": {},
   "outputs": [],
   "source": [
    "def eval_graph(G,instrument,lcm,centrality,plt=plt):\n",
    "    G = nx.convert_node_labels_to_integers(G)\n",
    "    with torch.no_grad():\n",
    "        Adj = nx.adjacency_matrix(G).toarray()\n",
    "        Adj = torch.tensor(Adj).to(device)\n",
    "        \n",
    "        #impulse response\n",
    "        signal = instrument(Adj)\n",
    "\n",
    "        #listen\n",
    "        y_pred = lcm(signal.unsqueeze(dim=1).double())\n",
    "        y_pred = y_pred.squeeze()\n",
    "\n",
    "        #eval\n",
    "        y_gt = centrality(G)\n",
    "        y_gt = [y_gt[i] for i in range(G.number_of_nodes())]\n",
    "        y_gt = torch.tensor(y_gt).to(device)\n",
    "\n",
    "        if plt:\n",
    "            plt.figure(figsize=(3,3))\n",
    "            plt.scatter(y_pred.cpu().detach().numpy(), y_gt.cpu().detach().numpy(),alpha=0.3)\n",
    "\n",
    "        return torch.corrcoef(torch.stack((y_pred,y_gt), dim=0))\n"
   ]
  },
  {
   "cell_type": "code",
   "execution_count": 6,
   "metadata": {},
   "outputs": [
    {
     "name": "stdout",
     "output_type": "stream",
     "text": [
      "tensor([[1.0000, 0.9885],\n",
      "        [0.9885, 1.0000]], device='cuda:0', dtype=torch.float64)\n",
      "trained to epoch: 147\n"
     ]
    },
    {
     "data": {
      "image/png": "[encoded data removed]",
      "text/plain": [
       "<Figure size 216x216 with 1 Axes>"
      ]
     },
     "metadata": {
      "needs_background": "light"
     },
     "output_type": "display_data"
    }
   ],
   "source": [
    "from os.path import exists\n",
    "\n",
    "centrality = nx.degree_centrality\n",
    "checkpoint_file = \"degree_checkpoint_nogridandcaveman.pt\"\n",
    "# checkpoint = {\n",
    "#     \"epochs\":500,\n",
    "#     \"optimizer\":optimizer,\n",
    "#     \"losses\":losses,\n",
    "#     \"model\":lcm,\n",
    "# }\n",
    "if exists(checkpoint_file):\n",
    "    checkpoint = torch.load(checkpoint_file)\n",
    "    epochs = checkpoint[\"epochs\"]\n",
    "    optimizer = checkpoint[\"optimizer\"]\n",
    "    losses = checkpoint[\"losses\"]\n",
    "    lcm = checkpoint[\"model\"]\n",
    "    \n",
    "else:\n",
    "    epochs = 0\n",
    "    lcm = M5(n_output=1).to(device)\n",
    "    optimizer = torch.optim.Adam(lcm.parameters(), lr=1e-5)\n",
    "    losses = []\n",
    "\n",
    "\n",
    "l=10000\n",
    "sig = torch.zeros(l).to(device)\n",
    "sig[0]=1\n",
    "instrument = SignalPropagation(sig, momentum=0.999, response_len=10000, tqdm=lambda x:x,device=device).to(device)\n",
    "scheduler = torch.optim.lr_scheduler.StepLR(optimizer, step_size=100, gamma=0.1)  # reduce the learning after 100 graphs by a factor of 10\n",
    "criterion = torch.corrcoef\n",
    "graphs_iter = graph_gen()\n",
    "\n",
    "G = nx.gnm_random_graph(150,200)\n",
    "print(eval_graph(G,instrument,lcm,centrality))\n",
    "print(\"trained to epoch:\",epochs)\n",
    "\n",
    "lcm = lcm.train(True)\n"
   ]
  },
  {
   "cell_type": "code",
   "execution_count": 7,
   "metadata": {
    "colab": {
     "base_uri": "https://localhost:8080/"
    },
    "id": "aVrMLp5GGCS6",
    "outputId": "145f4389-58bb-41be-cc52-985435e0d887"
   },
   "outputs": [],
   "source": [
    "for checkpoints in range(0):\n",
    "    #train\n",
    "    for i in tqdm(range(epochs,epochs+50)): #epochs \n",
    "        Gs = [next(graphs_iter) for _ in range(1+i//10)]\n",
    "        As = [nx.adjacency_matrix(G).toarray() for G in Gs]\n",
    "        As = [torch.tensor(A).to(device) for A in As]\n",
    "\n",
    "        with torch.no_grad():\n",
    "            responses = [instrument(A) for A in As]\n",
    "\n",
    "        AGRs = list(zip(As,Gs,responses))\n",
    "\n",
    "        for _ in range(10+i//10): #graph steps\n",
    "            loss = 0\n",
    "            for A,G,R in AGRs: \n",
    "                y_pred = lcm(R.unsqueeze(dim=1).double())\n",
    "                y_pred = y_pred.squeeze()\n",
    "\n",
    "                y_gt = centrality(G)\n",
    "                y_gt = [y_gt[i] for i in range(G.number_of_nodes())]\n",
    "                y_gt = torch.tensor(y_gt).to(device)\n",
    "\n",
    "                #loss = criterion(y_pred, y_gt)\n",
    "                l = (1 - criterion(torch.stack((y_pred, y_gt), dim=0))[0,1])\n",
    "                loss += l\n",
    "\n",
    "            loss /= len(AGRs)\n",
    "            losses.append(loss.item())\n",
    "\n",
    "            optimizer.zero_grad()\n",
    "            loss.backward()\n",
    "            optimizer.step()\n",
    "            #scheduler.step()\n",
    "    epochs = i\n",
    "\n",
    "    #print loss\n",
    "    nplosses = np.array(losses)\n",
    "    plt.figure(figsize=(6,3))\n",
    "    plt.semilogy(nplosses)\n",
    "\n",
    "    #save checkpoint\n",
    "    checkpoint = {\n",
    "        \"epochs\":epochs,\n",
    "        \"optimizer\":optimizer,\n",
    "        \"losses\":losses,\n",
    "        \"model\":lcm,\n",
    "    }\n",
    "    torch.save(checkpoint,checkpoint_file)"
   ]
  },
  {
   "cell_type": "code",
   "execution_count": 8,
   "metadata": {},
   "outputs": [
    {
     "data": {
      "text/plain": [
       "[<matplotlib.lines.Line2D at 0x2260f3104c0>]"
      ]
     },
     "execution_count": 8,
     "metadata": {},
     "output_type": "execute_result"
    },
    {
     "data": {
      "image/png": "[encoded data removed]",
      "text/plain": [
       "<Figure size 432x216 with 1 Axes>"
      ]
     },
     "metadata": {
      "needs_background": "light"
     },
     "output_type": "display_data"
    }
   ],
   "source": [
    "#print loss\n",
    "nplosses = np.array(losses)\n",
    "plt.figure(figsize=(6,3))\n",
    "plt.semilogy(nplosses[:5000])\n"
   ]
  },
  {
   "cell_type": "code",
   "execution_count": 9,
   "metadata": {},
   "outputs": [],
   "source": [
    "lcm = lcm.train() ##the model should not be set to eval mode to preserve the results"
   ]
  },
  {
   "cell_type": "code",
   "execution_count": 10,
   "metadata": {
    "id": "yjeHMJMZZFgU"
   },
   "outputs": [
    {
     "name": "stdout",
     "output_type": "stream",
     "text": [
      "tensor([[1.0000, 0.9907],\n",
      "        [0.9907, 1.0000]], device='cuda:0', dtype=torch.float64)\n"
     ]
    },
    {
     "data": {
      "image/png": "[encoded data removed]",
      "text/plain": [
       "<Figure size 216x216 with 1 Axes>"
      ]
     },
     "metadata": {
      "needs_background": "light"
     },
     "output_type": "display_data"
    }
   ],
   "source": [
    "G=nx.gnm_random_graph(150,200)\n",
    "print(eval_graph(G,instrument,lcm,centrality))"
   ]
  },
  {
   "cell_type": "code",
   "execution_count": 11,
   "metadata": {
    "id": "DZg4zFTpEGrf"
   },
   "outputs": [
    {
     "name": "stdout",
     "output_type": "stream",
     "text": [
      "tensor([[1.0000, 0.9954],\n",
      "        [0.9954, 1.0000]], device='cuda:0', dtype=torch.float64)\n"
     ]
    },
    {
     "data": {
      "image/png": "[encoded data removed]",
      "text/plain": [
       "<Figure size 216x216 with 1 Axes>"
      ]
     },
     "metadata": {
      "needs_background": "light"
     },
     "output_type": "display_data"
    }
   ],
   "source": [
    "G = nx.barabasi_albert_graph(150,2)\n",
    "print(eval_graph(G,instrument,lcm,centrality))"
   ]
  },
  {
   "cell_type": "code",
   "execution_count": 12,
   "metadata": {},
   "outputs": [
    {
     "name": "stdout",
     "output_type": "stream",
     "text": [
      "tensor([[1.0000, 0.9931],\n",
      "        [0.9931, 1.0000]], device='cuda:0', dtype=torch.float64)\n"
     ]
    },
    {
     "data": {
      "image/png": "[encoded data removed]",
      "text/plain": [
       "<Figure size 216x216 with 1 Axes>"
      ]
     },
     "metadata": {
      "needs_background": "light"
     },
     "output_type": "display_data"
    }
   ],
   "source": [
    "G = nx.watts_strogatz_graph(150,4,0.1)\n",
    "print(eval_graph(G,instrument,lcm,centrality))"
   ]
  },
  {
   "cell_type": "code",
   "execution_count": 13,
   "metadata": {
    "scrolled": true
   },
   "outputs": [
    {
     "name": "stdout",
     "output_type": "stream",
     "text": [
      "tensor([[1.0000, 0.9723],\n",
      "        [0.9723, 1.0000]], device='cuda:0', dtype=torch.float64)\n"
     ]
    },
    {
     "data": {
      "image/png": "[encoded data removed]",
      "text/plain": [
       "<Figure size 216x216 with 1 Axes>"
      ]
     },
     "metadata": {
      "needs_background": "light"
     },
     "output_type": "display_data"
    }
   ],
   "source": [
    "G = nx.grid_graph((10,15))\n",
    "print(eval_graph(G,instrument,lcm,centrality))"
   ]
  },
  {
   "cell_type": "code",
   "execution_count": 14,
   "metadata": {},
   "outputs": [
    {
     "name": "stdout",
     "output_type": "stream",
     "text": [
      "tensor([[1.0000, 0.9843],\n",
      "        [0.9843, 1.0000]], device='cuda:0', dtype=torch.float64)\n"
     ]
    },
    {
     "data": {
      "image/png": "[encoded data removed]",
      "text/plain": [
       "<Figure size 216x216 with 1 Axes>"
      ]
     },
     "metadata": {
      "needs_background": "light"
     },
     "output_type": "display_data"
    }
   ],
   "source": [
    "G = nx.connected_caveman_graph(6, 25)\n",
    "print(eval_graph(G,instrument,lcm,centrality))"
   ]
  },
  {
   "cell_type": "code",
   "execution_count": 15,
   "metadata": {},
   "outputs": [
    {
     "name": "stdout",
     "output_type": "stream",
     "text": [
      "tensor([[1.0000, 0.9870],\n",
      "        [0.9870, 1.0000]], device='cuda:0', dtype=torch.float64)\n"
     ]
    },
    {
     "data": {
      "image/png": "[encoded data removed]",
      "text/plain": [
       "<Figure size 216x216 with 1 Axes>"
      ]
     },
     "metadata": {
      "needs_background": "light"
     },
     "output_type": "display_data"
    }
   ],
   "source": [
    "G = nx.gnm_random_graph(1500,10000)\n",
    "print(eval_graph(G,instrument,lcm,centrality))"
   ]
  },
  {
   "cell_type": "code",
   "execution_count": 16,
   "metadata": {},
   "outputs": [
    {
     "name": "stdout",
     "output_type": "stream",
     "text": [
      "tensor([[1.0000, 0.9947],\n",
      "        [0.9947, 1.0000]], device='cuda:0', dtype=torch.float64)\n"
     ]
    },
    {
     "data": {
      "image/png": "[encoded data removed]",
      "text/plain": [
       "<Figure size 216x216 with 1 Axes>"
      ]
     },
     "metadata": {
      "needs_background": "light"
     },
     "output_type": "display_data"
    }
   ],
   "source": [
    "G = nx.barabasi_albert_graph(1500,20)\n",
    "print(eval_graph(G,instrument,lcm,centrality))"
   ]
  },
  {
   "cell_type": "code",
   "execution_count": 17,
   "metadata": {},
   "outputs": [
    {
     "name": "stdout",
     "output_type": "stream",
     "text": [
      "tensor([[1.0000, 0.9868],\n",
      "        [0.9868, 1.0000]], device='cuda:0', dtype=torch.float64)\n"
     ]
    },
    {
     "data": {
      "image/png": "[encoded data removed]",
      "text/plain": [
       "<Figure size 216x216 with 1 Axes>"
      ]
     },
     "metadata": {
      "needs_background": "light"
     },
     "output_type": "display_data"
    }
   ],
   "source": [
    "G = nx.watts_strogatz_graph(1500,20,0.1)\n",
    "print(eval_graph(G,instrument,lcm,centrality))"
   ]
  },
  {
   "cell_type": "code",
   "execution_count": 18,
   "metadata": {},
   "outputs": [
    {
     "name": "stdout",
     "output_type": "stream",
     "text": [
      "tensor([[1.0000, 0.9460],\n",
      "        [0.9460, 1.0000]], device='cuda:0', dtype=torch.float64)\n"
     ]
    },
    {
     "data": {
      "image/png": "[encoded data removed]",
      "text/plain": [
       "<Figure size 216x216 with 1 Axes>"
      ]
     },
     "metadata": {
      "needs_background": "light"
     },
     "output_type": "display_data"
    }
   ],
   "source": [
    "G = nx.grid_graph((30,50))\n",
    "print(eval_graph(G,instrument,lcm,centrality))"
   ]
  },
  {
   "cell_type": "code",
   "execution_count": 19,
   "metadata": {},
   "outputs": [
    {
     "name": "stdout",
     "output_type": "stream",
     "text": [
      "tensor([[1.0000, 0.9565],\n",
      "        [0.9565, 1.0000]], device='cuda:0', dtype=torch.float64)\n"
     ]
    },
    {
     "data": {
      "image/png": "[encoded data removed]",
      "text/plain": [
       "<Figure size 216x216 with 1 Axes>"
      ]
     },
     "metadata": {
      "needs_background": "light"
     },
     "output_type": "display_data"
    }
   ],
   "source": [
    "G = nx.connected_caveman_graph(30, 50)\n",
    "print(eval_graph(G,instrument,lcm,centrality))"
   ]
  },
  {
   "cell_type": "code",
   "execution_count": 20,
   "metadata": {
    "scrolled": false
   },
   "outputs": [
    {
     "name": "stdout",
     "output_type": "stream",
     "text": [
      "tensor([[1.0000, 0.9880],\n",
      "        [0.9880, 1.0000]], device='cuda:0', dtype=torch.float64)\n"
     ]
    },
    {
     "data": {
      "image/png": "[encoded data removed]",
      "text/plain": [
       "<Figure size 216x216 with 1 Axes>"
      ]
     },
     "metadata": {
      "needs_background": "light"
     },
     "output_type": "display_data"
    }
   ],
   "source": [
    "G = nx.karate_club_graph()\n",
    "print(eval_graph(G,instrument,lcm,centrality))"
   ]
  },
  {
   "cell_type": "code",
   "execution_count": 21,
   "metadata": {},
   "outputs": [
    {
     "name": "stdout",
     "output_type": "stream",
     "text": [
      "tensor([[1.0000, 0.9856],\n",
      "        [0.9856, 1.0000]], device='cuda:0', dtype=torch.float64)\n"
     ]
    },
    {
     "data": {
      "image/png": "[encoded data removed]",
      "text/plain": [
       "<Figure size 216x216 with 1 Axes>"
      ]
     },
     "metadata": {
      "needs_background": "light"
     },
     "output_type": "display_data"
    }
   ],
   "source": [
    "G = nx.davis_southern_women_graph()\n",
    "print(eval_graph(G,instrument,lcm,centrality))"
   ]
  },
  {
   "cell_type": "code",
   "execution_count": 22,
   "metadata": {},
   "outputs": [
    {
     "name": "stdout",
     "output_type": "stream",
     "text": [
      "tensor([[1.0000, 0.9897],\n",
      "        [0.9897, 1.0000]], device='cuda:0', dtype=torch.float64)\n"
     ]
    },
    {
     "data": {
      "image/png": "[encoded data removed]",
      "text/plain": [
       "<Figure size 216x216 with 1 Axes>"
      ]
     },
     "metadata": {
      "needs_background": "light"
     },
     "output_type": "display_data"
    }
   ],
   "source": [
    "G = nx.florentine_families_graph()\n",
    "print(eval_graph(G,instrument,lcm,centrality))"
   ]
  },
  {
   "cell_type": "code",
   "execution_count": 23,
   "metadata": {
    "scrolled": true
   },
   "outputs": [
    {
     "name": "stdout",
     "output_type": "stream",
     "text": [
      "tensor([[1.0000, 0.8679],\n",
      "        [0.8679, 1.0000]], device='cuda:0', dtype=torch.float64)\n"
     ]
    },
    {
     "data": {
      "image/png": "[encoded data removed]",
      "text/plain": [
       "<Figure size 216x216 with 1 Axes>"
      ]
     },
     "metadata": {
      "needs_background": "light"
     },
     "output_type": "display_data"
    }
   ],
   "source": [
    "G = nx.les_miserables_graph()\n",
    "print(eval_graph(G,instrument,lcm,centrality))"
   ]
  },
  {
   "cell_type": "code",
   "execution_count": 24,
   "metadata": {},
   "outputs": [
    {
     "name": "stdout",
     "output_type": "stream",
     "text": [
      "tensor([[1.0000, 0.9931],\n",
      "        [0.9931, 1.0000]], device='cuda:0', dtype=torch.float64)\n"
     ]
    },
    {
     "data": {
      "image/png": "[encoded data removed]",
      "text/plain": [
       "<Figure size 216x216 with 1 Axes>"
      ]
     },
     "metadata": {
      "needs_background": "light"
     },
     "output_type": "display_data"
    }
   ],
   "source": [
    "G = nx.random_internet_as_graph(4000)\n",
    "print(eval_graph(G,instrument,lcm,centrality))"
   ]
  },
  {
   "cell_type": "code",
   "execution_count": 7,
   "metadata": {},
   "outputs": [
    {
     "name": "stdout",
     "output_type": "stream",
     "text": [
      "tensor([[1.0000, 0.9754],\n",
      "        [0.9754, 1.0000]], device='cuda:0', dtype=torch.float64)\n"
     ]
    },
    {
     "data": {
      "image/png": "[encoded data removed]",
      "text/plain": [
       "<Figure size 216x216 with 1 Axes>"
      ]
     },
     "metadata": {
      "needs_background": "light"
     },
     "output_type": "display_data"
    }
   ],
   "source": [
    "G = nx.random_geometric_graph(150,0.3,dim=2, pos=None, p=2, seed=None) \n",
    "print(eval_graph(G,instrument,lcm,centrality))"
   ]
  },
  {
   "cell_type": "code",
   "execution_count": null,
   "metadata": {},
   "outputs": [],
   "source": []
  }
 ],
 "metadata": {
  "accelerator": "GPU",
  "colab": {
   "collapsed_sections": [],
   "name": "Attentive Routing",
   "provenance": []
  },
  "kernelspec": {
   "display_name": "Python 3",
   "language": "python",
   "name": "python3"
  },
  "language_info": {
   "codemirror_mode": {
    "name": "ipython",
    "version": 3
   },
   "file_extension": ".py",
   "mimetype": "text/x-python",
   "name": "python",
   "nbconvert_exporter": "python",
   "pygments_lexer": "ipython3",
   "version": "3.8.8"
  }
 },
 "nbformat": 4,
 "nbformat_minor": 1
}
